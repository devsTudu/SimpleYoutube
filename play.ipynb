{
 "cells": [
  {
   "cell_type": "code",
   "execution_count": null,
   "id": "6cf27397",
   "metadata": {},
   "outputs": [],
   "source": [
    "from src.youtube_api import getPlaylistFromIdRaw as get\n"
   ]
  },
  {
   "cell_type": "code",
   "execution_count": 3,
   "id": "5e9e3453",
   "metadata": {},
   "outputs": [],
   "source": [
    "x = get(\"PLTWGH5orWwL1-W-t21jQOIWUO6GKsc0ir\")"
   ]
  },
  {
   "cell_type": "code",
   "execution_count": 11,
   "id": "d2fce602",
   "metadata": {},
   "outputs": [],
   "source": [
    "x.items = []"
   ]
  },
  {
   "cell_type": "code",
   "execution_count": 13,
   "id": "ac8f25b9",
   "metadata": {},
   "outputs": [
    {
     "name": "stdout",
     "output_type": "stream",
     "text": [
      "{'etag': '_jZ7hXbyEBOBIbdSrbV_MCFeRX8',\n",
      " 'items': [],\n",
      " 'kind': 'youtube#playlistItemListResponse',\n",
      " 'nextPageToken': None,\n",
      " 'pageInfo': {'resultsPerPage': 50, 'totalResults': 28}}\n"
     ]
    }
   ],
   "source": [
    "from pprint import pprint as pp\n",
    "pp(x.model_dump())"
   ]
  }
 ],
 "metadata": {
  "kernelspec": {
   "display_name": "simpleyoutube",
   "language": "python",
   "name": "python3"
  },
  "language_info": {
   "codemirror_mode": {
    "name": "ipython",
    "version": 3
   },
   "file_extension": ".py",
   "mimetype": "text/x-python",
   "name": "python",
   "nbconvert_exporter": "python",
   "pygments_lexer": "ipython3",
   "version": "3.13.5"
  }
 },
 "nbformat": 4,
 "nbformat_minor": 5
}
